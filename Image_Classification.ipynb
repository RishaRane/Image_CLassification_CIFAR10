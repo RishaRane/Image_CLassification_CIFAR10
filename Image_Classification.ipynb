{
  "nbformat": 4,
  "nbformat_minor": 0,
  "metadata": {
    "colab": {
      "provenance": []
    },
    "kernelspec": {
      "name": "python3",
      "display_name": "Python 3"
    },
    "language_info": {
      "name": "python"
    }
  },
  "cells": [
    {
      "cell_type": "markdown",
      "source": [
        "# `IMAGE CLASSIFICATION USING CNN`"
      ],
      "metadata": {
        "id": "yUJYu8fyu4lR"
      }
    },
    {
      "cell_type": "code",
      "source": [
        "import tensorflow as tf\n",
        "from tensorflow import keras\n",
        "import matplotlib.pyplot as plt\n",
        "import numpy as np\n",
        "import seaborn as sns\n",
        "\n",
        "plt.rcParams['figure.figsize'] = (15, 2)"
      ],
      "metadata": {
        "id": "HJCd8Bi5u30U"
      },
      "execution_count": null,
      "outputs": []
    },
    {
      "cell_type": "code",
      "source": [
        "(X_train, y_train), (X_test, y_test) = keras.datasets.cifar10.load_data()"
      ],
      "metadata": {
        "colab": {
          "base_uri": "https://localhost:8080/"
        },
        "id": "_FEBJft6u3xt",
        "outputId": "95127a5e-369c-4a91-9189-2f33024ff6a1"
      },
      "execution_count": null,
      "outputs": [
        {
          "output_type": "stream",
          "name": "stdout",
          "text": [
            "Downloading data from https://www.cs.toronto.edu/~kriz/cifar-10-python.tar.gz\n",
            "170498071/170498071 [==============================] - 2s 0us/step\n"
          ]
        }
      ]
    },
    {
      "cell_type": "code",
      "source": [
        "X_train.shape, X_test.shape"
      ],
      "metadata": {
        "colab": {
          "base_uri": "https://localhost:8080/"
        },
        "id": "yeSowFclu3vG",
        "outputId": "7001f6be-ed04-4366-a24e-b7d97f92e4ff"
      },
      "execution_count": null,
      "outputs": [
        {
          "output_type": "execute_result",
          "data": {
            "text/plain": [
              "((50000, 32, 32, 3), (10000, 32, 32, 3))"
            ]
          },
          "metadata": {},
          "execution_count": 7
        }
      ]
    },
    {
      "cell_type": "code",
      "source": [
        "plt.imshow(X_train[1000])"
      ],
      "metadata": {
        "colab": {
          "base_uri": "https://localhost:8080/",
          "height": 235
        },
        "id": "PGzAL6FLu3sw",
        "outputId": "c3ecc32d-719b-4b75-b850-8e825f0e148e"
      },
      "execution_count": null,
      "outputs": [
        {
          "output_type": "execute_result",
          "data": {
            "text/plain": [
              "<matplotlib.image.AxesImage at 0x7dc1cb55d870>"
            ]
          },
          "metadata": {},
          "execution_count": 9
        },
        {
          "output_type": "display_data",
          "data": {
            "text/plain": [
              "<Figure size 1500x200 with 1 Axes>"
            ],
            "image/png": "[encoded data removed]"
          },
          "metadata": {}
        }
      ]
    },
    {
      "cell_type": "code",
      "source": [
        "y_train[1000]"
      ],
      "metadata": {
        "colab": {
          "base_uri": "https://localhost:8080/"
        },
        "id": "TbMnP7Uxu3qa",
        "outputId": "68d025e2-fb64-46f3-cf3d-320d0cfbea35"
      },
      "execution_count": null,
      "outputs": [
        {
          "output_type": "execute_result",
          "data": {
            "text/plain": [
              "array([9], dtype=uint8)"
            ]
          },
          "metadata": {},
          "execution_count": 10
        }
      ]
    },
    {
      "cell_type": "code",
      "source": [
        "y_train = y_train.reshape(-1)"
      ],
      "metadata": {
        "id": "muFmWIe6xgQX"
      },
      "execution_count": null,
      "outputs": []
    },
    {
      "cell_type": "code",
      "source": [
        "y_train[:5]"
      ],
      "metadata": {
        "colab": {
          "base_uri": "https://localhost:8080/"
        },
        "id": "WburSY72xptF",
        "outputId": "94accf9f-213c-4998-c21a-b11b0fb56133"
      },
      "execution_count": null,
      "outputs": [
        {
          "output_type": "execute_result",
          "data": {
            "text/plain": [
              "array([6, 9, 9, 4, 1], dtype=uint8)"
            ]
          },
          "metadata": {},
          "execution_count": 14
        }
      ]
    },
    {
      "cell_type": "code",
      "source": [
        "classes = ['airplane', 'automobile', 'bird', 'cat', 'deer', 'dog', 'frog', 'horse', 'ship', 'truck']\n",
        "classes[y_train[1000]]"
      ],
      "metadata": {
        "colab": {
          "base_uri": "https://localhost:8080/",
          "height": 35
        },
        "id": "Mrx9LZ_Xu3n1",
        "outputId": "70785c0b-5721-4e9a-eabc-d43f4f0e49aa"
      },
      "execution_count": null,
      "outputs": [
        {
          "output_type": "execute_result",
          "data": {
            "text/plain": [
              "'truck'"
            ],
            "application/vnd.google.colaboratory.intrinsic+json": {
              "type": "string"
            }
          },
          "metadata": {},
          "execution_count": 15
        }
      ]
    },
    {
      "cell_type": "code",
      "source": [
        "def plot_image(x, y, index):\n",
        "  fig = plt.imshow(x[index])\n",
        "  plt.title(classes[y[index]])\n",
        "  fig.axes.get_xaxis().set_visible(False)\n",
        "  fig.axes.get_yaxis().set_visible(False)"
      ],
      "metadata": {
        "id": "KwliPXx2u3k8"
      },
      "execution_count": null,
      "outputs": []
    },
    {
      "cell_type": "code",
      "source": [
        "plot_image(6000)"
      ],
      "metadata": {
        "colab": {
          "base_uri": "https://localhost:8080/",
          "height": 213
        },
        "id": "ZOPRk_pLu3iV",
        "outputId": "89f178dc-d477-40ba-8b18-63fb123a1605"
      },
      "execution_count": null,
      "outputs": [
        {
          "output_type": "display_data",
          "data": {
            "text/plain": [
              "<Figure size 1500x200 with 1 Axes>"
            ],
            "image/png": "[encoded data removed]"
          },
          "metadata": {}
        }
      ]
    },
    {
      "cell_type": "code",
      "source": [
        "plot_image(450)"
      ],
      "metadata": {
        "colab": {
          "base_uri": "https://localhost:8080/",
          "height": 213
        },
        "id": "txqRr3_Bu3fl",
        "outputId": "4431387e-73ad-40e7-eba6-97893633d028"
      },
      "execution_count": null,
      "outputs": [
        {
          "output_type": "display_data",
          "data": {
            "text/plain": [
              "<Figure size 1500x200 with 1 Axes>"
            ],
            "image/png": "[encoded data removed]"
          },
          "metadata": {}
        }
      ]
    },
    {
      "cell_type": "code",
      "source": [
        "X_train[6000]"
      ],
      "metadata": {
        "colab": {
          "base_uri": "https://localhost:8080/",
          "height": 72
        },
        "id": "ARatAMyZu7_w",
        "outputId": "c76448f3-2546-47ce-c5b4-52afb32a85d8"
      },
      "execution_count": null,
      "outputs": [
        {
          "output_type": "execute_result",
          "data": {
            "text/plain": [
              "array([[[150, 138, 121],\n",
              "        [152, 140, 124],\n",
              "        [139, 127, 111],\n",
              "        ...,\n",
              "        [200, 182, 167],\n",
              "        [206, 187, 172],\n",
              "        [205, 187, 171]],\n",
              "\n",
              "       [[142, 130, 114],\n",
              "        [147, 135, 119],\n",
              "        [140, 128, 112],\n",
              "        ...,\n",
              "        [196, 180, 165],\n",
              "        [202, 185, 172],\n",
              "        [208, 192, 180]],\n",
              "\n",
              "       [[132, 120, 103],\n",
              "        [144, 132, 116],\n",
              "        [149, 137, 121],\n",
              "        ...,\n",
              "        [194, 182, 158],\n",
              "        [189, 177, 158],\n",
              "        [197, 184, 170]],\n",
              "\n",
              "       ...,\n",
              "\n",
              "       [[ 44,  37,  30],\n",
              "        [ 81,  71,  62],\n",
              "        [187, 174, 163],\n",
              "        ...,\n",
              "        [118, 108,  93],\n",
              "        [146, 136, 121],\n",
              "        [138, 128, 113]],\n",
              "\n",
              "       [[ 78,  72,  62],\n",
              "        [ 97,  87,  75],\n",
              "        [167, 156, 141],\n",
              "        ...,\n",
              "        [187, 176, 158],\n",
              "        [192, 180, 163],\n",
              "        [191, 180, 163]],\n",
              "\n",
              "       [[ 66,  60,  48],\n",
              "        [ 67,  58,  44],\n",
              "        [158, 147, 131],\n",
              "        ...,\n",
              "        [204, 190, 171],\n",
              "        [197, 184, 164],\n",
              "        [190, 177, 157]]], dtype=uint8)"
            ],
            "text/html": [
              "<style>\n",
              "      .ndarray_repr .ndarray_raw_data {\n",
              "        display: none;\n",
              "      }\n",
              "      .ndarray_repr.show_array .ndarray_raw_data {\n",
              "        display: block;\n",
              "      }\n",
              "      .ndarray_repr.show_array .ndarray_image_preview {\n",
              "        display: none;\n",
              "      }\n",
              "      </style>\n",
              "      <div id=\"id-e94d2b20-a750-4bfc-8782-bf837afca9fe\" class=\"ndarray_repr\"><pre>ndarray (32, 32, 3) <button style=\"padding: 0 2px;\">show data</button></pre><img src=\"data:image/png;base64,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\" class=\"ndarray_image_preview\" /><pre class=\"ndarray_raw_data\">array([[[150, 138, 121],\n",
              "        [152, 140, 124],\n",
              "        [139, 127, 111],\n",
              "        ...,\n",
              "        [200, 182, 167],\n",
              "        [206, 187, 172],\n",
              "        [205, 187, 171]],\n",
              "\n",
              "       [[142, 130, 114],\n",
              "        [147, 135, 119],\n",
              "        [140, 128, 112],\n",
              "        ...,\n",
              "        [196, 180, 165],\n",
              "        [202, 185, 172],\n",
              "        [208, 192, 180]],\n",
              "\n",
              "       [[132, 120, 103],\n",
              "        [144, 132, 116],\n",
              "        [149, 137, 121],\n",
              "        ...,\n",
              "        [194, 182, 158],\n",
              "        [189, 177, 158],\n",
              "        [197, 184, 170]],\n",
              "\n",
              "       ...,\n",
              "\n",
              "       [[ 44,  37,  30],\n",
              "        [ 81,  71,  62],\n",
              "        [187, 174, 163],\n",
              "        ...,\n",
              "        [118, 108,  93],\n",
              "        [146, 136, 121],\n",
              "        [138, 128, 113]],\n",
              "\n",
              "       [[ 78,  72,  62],\n",
              "        [ 97,  87,  75],\n",
              "        [167, 156, 141],\n",
              "        ...,\n",
              "        [187, 176, 158],\n",
              "        [192, 180, 163],\n",
              "        [191, 180, 163]],\n",
              "\n",
              "       [[ 66,  60,  48],\n",
              "        [ 67,  58,  44],\n",
              "        [158, 147, 131],\n",
              "        ...,\n",
              "        [204, 190, 171],\n",
              "        [197, 184, 164],\n",
              "        [190, 177, 157]]], dtype=uint8)</pre></div><script>\n",
              "      (() => {\n",
              "      const titles = ['show data', 'hide data'];\n",
              "      let index = 0\n",
              "      document.querySelector('#id-e94d2b20-a750-4bfc-8782-bf837afca9fe button').onclick = (e) => {\n",
              "        document.querySelector('#id-e94d2b20-a750-4bfc-8782-bf837afca9fe').classList.toggle('show_array');\n",
              "        index = (++index) % 2;\n",
              "        document.querySelector('#id-e94d2b20-a750-4bfc-8782-bf837afca9fe button').textContent = titles[index];\n",
              "        e.preventDefault();\n",
              "        e.stopPropagation();\n",
              "      }\n",
              "      })();\n",
              "    </script>"
            ]
          },
          "metadata": {},
          "execution_count": 23
        }
      ]
    },
    {
      "cell_type": "code",
      "source": [
        "X_train_scaled = X_train/255\n",
        "X_test_scaled = X_test/255"
      ],
      "metadata": {
        "id": "pNOFHpyEu78o"
      },
      "execution_count": null,
      "outputs": []
    },
    {
      "cell_type": "markdown",
      "source": [
        "#ANN MODEL"
      ],
      "metadata": {
        "id": "_3sJHrp6zOfI"
      }
    },
    {
      "cell_type": "code",
      "source": [
        "model = keras.Sequential([\n",
        "    keras.layers.Flatten(input_shape=(32, 32, 3)),\n",
        "    keras.layers.Dense(500, activation = 'relu'),\n",
        "    keras.layers.Dense(300, activation = 'relu'),\n",
        "    keras.layers.Dense(100, activation = 'relu'),\n",
        "    keras.layers.Dense(10, activation = 'softmax'),\n",
        "])\n",
        "\n",
        "model.compile(optimizer = 'adam',\n",
        "              loss = 'sparse_categorical_crossentropy',\n",
        "              metrics = ['accuracy'])\n",
        "\n",
        "model.fit(X_train_scaled, y_train, epochs = 10, batch_size = 100)"
      ],
      "metadata": {
        "colab": {
          "base_uri": "https://localhost:8080/"
        },
        "id": "UAqTL6TcwKW9",
        "outputId": "bd489deb-e2eb-4492-f811-dbc73ff6b749"
      },
      "execution_count": null,
      "outputs": [
        {
          "output_type": "stream",
          "name": "stdout",
          "text": [
            "Epoch 1/10\n",
            "500/500 [==============================] - 21s 39ms/step - loss: 1.8928 - accuracy: 0.3140\n",
            "Epoch 2/10\n",
            "500/500 [==============================] - 17s 35ms/step - loss: 1.6781 - accuracy: 0.3970\n",
            "Epoch 3/10\n",
            "500/500 [==============================] - 18s 35ms/step - loss: 1.5945 - accuracy: 0.4288\n",
            "Epoch 4/10\n",
            "500/500 [==============================] - 17s 34ms/step - loss: 1.5280 - accuracy: 0.4540\n",
            "Epoch 5/10\n",
            "500/500 [==============================] - 17s 35ms/step - loss: 1.4870 - accuracy: 0.4696\n",
            "Epoch 6/10\n",
            "500/500 [==============================] - 17s 33ms/step - loss: 1.4445 - accuracy: 0.4849\n",
            "Epoch 7/10\n",
            "500/500 [==============================] - 17s 33ms/step - loss: 1.4184 - accuracy: 0.4949\n",
            "Epoch 8/10\n",
            "500/500 [==============================] - 28s 56ms/step - loss: 1.3749 - accuracy: 0.5089\n",
            "Epoch 9/10\n",
            "500/500 [==============================] - 27s 53ms/step - loss: 1.3542 - accuracy: 0.5155\n",
            "Epoch 10/10\n",
            "500/500 [==============================] - 18s 36ms/step - loss: 1.3249 - accuracy: 0.5252\n"
          ]
        },
        {
          "output_type": "execute_result",
          "data": {
            "text/plain": [
              "<keras.src.callbacks.History at 0x7dc1c0029f00>"
            ]
          },
          "metadata": {},
          "execution_count": 27
        }
      ]
    },
    {
      "cell_type": "code",
      "source": [
        "loss, accuracy = model.evaluate(X_test_scaled, y_test)\n",
        "accuracy * 100"
      ],
      "metadata": {
        "colab": {
          "base_uri": "https://localhost:8080/"
        },
        "id": "pJ-jsd17wKUW",
        "outputId": "5ddfa862-49b4-4c29-e465-4fd1417b3f79"
      },
      "execution_count": null,
      "outputs": [
        {
          "output_type": "stream",
          "name": "stdout",
          "text": [
            "313/313 [==============================] - 2s 6ms/step - loss: 1.4185 - accuracy: 0.4972\n"
          ]
        },
        {
          "output_type": "execute_result",
          "data": {
            "text/plain": [
              "49.720001220703125"
            ]
          },
          "metadata": {},
          "execution_count": 28
        }
      ]
    },
    {
      "cell_type": "markdown",
      "source": [
        "# CNN MODEL"
      ],
      "metadata": {
        "id": "hOSD0ZNW17Ed"
      }
    },
    {
      "cell_type": "code",
      "source": [
        "cnn_model = keras.Sequential([\n",
        "    #CONVOLUTIONAL LAYERS\n",
        "    keras.layers.Conv2D(filters = 100, kernel_size = (3, 3), input_shape=(32, 32, 3), activation = 'relu'),\n",
        "    keras.layers.MaxPooling2D((2,2)),\n",
        "    keras.layers.Conv2D(filters = 50, kernel_size = (3, 3), activation = 'relu'),\n",
        "    keras.layers.MaxPooling2D((2,2)),\n",
        "\n",
        "     # DENSE LAYERS\n",
        "    keras.layers.Flatten(),\n",
        "    keras.layers.Dense(500, activation = 'relu'),\n",
        "    keras.layers.Dropout(0.2),\n",
        "    keras.layers.Dense(300, activation = 'relu'),\n",
        "    keras.layers.Dropout(0.2),\n",
        "    keras.layers.Dense(100, activation = 'relu'),\n",
        "    keras.layers.Dropout(0.2),\n",
        "    keras.layers.Dense(10, activation = 'softmax'),\n",
        "])\n",
        "\n",
        "cnn_model.compile(optimizer = 'adam',\n",
        "              loss = 'sparse_categorical_crossentropy',\n",
        "              metrics = ['accuracy'])\n",
        "\n",
        "cnn_model.fit(X_train_scaled, y_train, epochs = 10, batch_size = 100)"
      ],
      "metadata": {
        "colab": {
          "base_uri": "https://localhost:8080/"
        },
        "id": "3Hv_WG8ywKSD",
        "outputId": "f7bf8aff-bbff-438f-a858-6fef5a01d441"
      },
      "execution_count": null,
      "outputs": [
        {
          "output_type": "stream",
          "name": "stdout",
          "text": [
            "Epoch 1/10\n",
            "500/500 [==============================] - 168s 333ms/step - loss: 1.5884 - accuracy: 0.4167\n",
            "Epoch 2/10\n",
            "500/500 [==============================] - 161s 323ms/step - loss: 1.1563 - accuracy: 0.5912\n",
            "Epoch 3/10\n",
            "500/500 [==============================] - 156s 311ms/step - loss: 0.9829 - accuracy: 0.6601\n",
            "Epoch 4/10\n",
            "500/500 [==============================] - 161s 321ms/step - loss: 0.8493 - accuracy: 0.7081\n",
            "Epoch 5/10\n",
            "500/500 [==============================] - 155s 309ms/step - loss: 0.7564 - accuracy: 0.7380\n",
            "Epoch 6/10\n",
            "500/500 [==============================] - 155s 310ms/step - loss: 0.6698 - accuracy: 0.7691\n",
            "Epoch 7/10\n",
            "500/500 [==============================] - 152s 305ms/step - loss: 0.6041 - accuracy: 0.7922\n",
            "Epoch 8/10\n",
            "500/500 [==============================] - 153s 306ms/step - loss: 0.5254 - accuracy: 0.8191\n",
            "Epoch 9/10\n",
            "500/500 [==============================] - 153s 307ms/step - loss: 0.4681 - accuracy: 0.8364\n",
            "Epoch 10/10\n",
            "500/500 [==============================] - 154s 307ms/step - loss: 0.4095 - accuracy: 0.8578\n"
          ]
        },
        {
          "output_type": "execute_result",
          "data": {
            "text/plain": [
              "<keras.src.callbacks.History at 0x7dc1c001a530>"
            ]
          },
          "metadata": {},
          "execution_count": 33
        }
      ]
    },
    {
      "cell_type": "code",
      "source": [
        "loss, accuracy = cnn_model.evaluate(X_test_scaled, y_test)\n",
        "accuracy * 100"
      ],
      "metadata": {
        "colab": {
          "base_uri": "https://localhost:8080/"
        },
        "id": "pKKTEQSD2oHD",
        "outputId": "ccd63cc0-418e-423b-8619-3380fc6b464a"
      },
      "execution_count": null,
      "outputs": [
        {
          "output_type": "stream",
          "name": "stdout",
          "text": [
            "313/313 [==============================] - 17s 54ms/step - loss: 0.8930 - accuracy: 0.7270\n"
          ]
        },
        {
          "output_type": "execute_result",
          "data": {
            "text/plain": [
              "72.69999980926514"
            ]
          },
          "metadata": {},
          "execution_count": 34
        }
      ]
    },
    {
      "cell_type": "code",
      "source": [
        "y_test = y_test.reshape(-1)\n",
        "plot_image(X_test, y_test, 250)"
      ],
      "metadata": {
        "colab": {
          "base_uri": "https://localhost:8080/",
          "height": 213
        },
        "id": "JElWA9Zu7Qir",
        "outputId": "e9e108bd-62d5-40bd-da92-c4050c7417dd"
      },
      "execution_count": null,
      "outputs": [
        {
          "output_type": "display_data",
          "data": {
            "text/plain": [
              "<Figure size 1500x200 with 1 Axes>"
            ],
            "image/png": "[encoded data removed]"
          },
          "metadata": {}
        }
      ]
    },
    {
      "cell_type": "code",
      "source": [
        "pred = cnn_model.predict(X_test)"
      ],
      "metadata": {
        "colab": {
          "base_uri": "https://localhost:8080/"
        },
        "id": "Gn0gb4nr7Qe9",
        "outputId": "33f0f0f2-7cc2-474e-c459-c3fe979eabb6"
      },
      "execution_count": null,
      "outputs": [
        {
          "output_type": "stream",
          "name": "stdout",
          "text": [
            "313/313 [==============================] - 17s 52ms/step\n"
          ]
        }
      ]
    },
    {
      "cell_type": "code",
      "source": [
        "classes[np.argmax(pred[250])]"
      ],
      "metadata": {
        "colab": {
          "base_uri": "https://localhost:8080/",
          "height": 35
        },
        "id": "kprI5UQi7Qad",
        "outputId": "bb6d484b-1a80-4dca-90b7-129ba9c96908"
      },
      "execution_count": null,
      "outputs": [
        {
          "output_type": "execute_result",
          "data": {
            "text/plain": [
              "'dog'"
            ],
            "application/vnd.google.colaboratory.intrinsic+json": {
              "type": "string"
            }
          },
          "metadata": {},
          "execution_count": 41
        }
      ]
    },
    {
      "cell_type": "code",
      "source": [
        "plot_image(X_test, y_test, 799)"
      ],
      "metadata": {
        "colab": {
          "base_uri": "https://localhost:8080/",
          "height": 213
        },
        "id": "VJBuGaa97QYH",
        "outputId": "cabf4bec-3d01-4a40-8078-85f19fb95327"
      },
      "execution_count": null,
      "outputs": [
        {
          "output_type": "display_data",
          "data": {
            "text/plain": [
              "<Figure size 1500x200 with 1 Axes>"
            ],
            "image/png": "[encoded data removed]"
          },
          "metadata": {}
        }
      ]
    },
    {
      "cell_type": "code",
      "source": [
        "classes[np.argmax(pred[799])]"
      ],
      "metadata": {
        "colab": {
          "base_uri": "https://localhost:8080/",
          "height": 35
        },
        "id": "dfa7IXSJ7QPs",
        "outputId": "58dc2eeb-401c-4a3d-b252-19276739d18b"
      },
      "execution_count": null,
      "outputs": [
        {
          "output_type": "execute_result",
          "data": {
            "text/plain": [
              "'bird'"
            ],
            "application/vnd.google.colaboratory.intrinsic+json": {
              "type": "string"
            }
          },
          "metadata": {},
          "execution_count": 49
        }
      ]
    },
    {
      "cell_type": "code",
      "source": [
        "pred_value = [np.argmax(value) for value in pred]"
      ],
      "metadata": {
        "id": "0E3jhs_gGnIA"
      },
      "execution_count": null,
      "outputs": []
    },
    {
      "cell_type": "code",
      "source": [
        "from sklearn.metrics import confusion_matrix, classification_report\n",
        "print(classification_report(y_test, pred_value))"
      ],
      "metadata": {
        "colab": {
          "base_uri": "https://localhost:8080/"
        },
        "id": "3RMMS-nNFKVi",
        "outputId": "4b8262e1-5ecb-4683-9dd3-d238838f033a"
      },
      "execution_count": null,
      "outputs": [
        {
          "output_type": "stream",
          "name": "stdout",
          "text": [
            "              precision    recall  f1-score   support\n",
            "\n",
            "           0       0.59      0.74      0.66      1000\n",
            "           1       0.63      0.81      0.71      1000\n",
            "           2       0.75      0.29      0.42      1000\n",
            "           3       0.45      0.38      0.41      1000\n",
            "           4       0.78      0.23      0.35      1000\n",
            "           5       0.51      0.59      0.55      1000\n",
            "           6       0.87      0.46      0.60      1000\n",
            "           7       0.50      0.84      0.63      1000\n",
            "           8       0.64      0.73      0.68      1000\n",
            "           9       0.58      0.82      0.68      1000\n",
            "\n",
            "    accuracy                           0.59     10000\n",
            "   macro avg       0.63      0.59      0.57     10000\n",
            "weighted avg       0.63      0.59      0.57     10000\n",
            "\n"
          ]
        }
      ]
    },
    {
      "cell_type": "code",
      "source": [
        "cf = confusion_matrix(y_test, pred_value, normalize = 'true')\n",
        "sns.heatmap(cf, cmap = 'Blues', annot = True);"
      ],
      "metadata": {
        "colab": {
          "base_uri": "https://localhost:8080/",
          "height": 214
        },
        "id": "td9G1kmGFt8Z",
        "outputId": "672c69c1-5644-4792-d67a-47b758b12e97"
      },
      "execution_count": null,
      "outputs": [
        {
          "output_type": "display_data",
          "data": {
            "text/plain": [
              "<Figure size 1500x200 with 2 Axes>"
            ],
            "image/png": "[encoded data removed]"
          },
          "metadata": {}
        }
      ]
    },
    {
      "cell_type": "code",
      "source": [],
      "metadata": {
        "id": "oBPlPPRaHI5D"
      },
      "execution_count": null,
      "outputs": []
    }
  ]
}